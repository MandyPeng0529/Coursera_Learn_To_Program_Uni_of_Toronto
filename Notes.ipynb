{
 "cells": [
  {
   "cell_type": "code",
   "execution_count": 1,
   "metadata": {
    "collapsed": false
   },
   "outputs": [
    {
     "data": {
      "text/plain": [
       "'\\nReading Notes\\n'"
      ]
     },
     "execution_count": 1,
     "metadata": {},
     "output_type": "execute_result"
    }
   ],
   "source": [
    "\"\"\"\n",
    "Reading Notes\n",
    "filename.open(name, 'r')\n",
    "**** Readline - reads the NEXT LINE - when you get to end of file -> only time it reaches END of file. Good for PARTS of the line\n",
    "filename.close() - restarts\n",
    "**** for line in file -> is for everything if you want to process\n",
    "\n",
    "**** READ will give you all the contents\n",
    "\n",
    "****readlines (list of lines in all the file)\n",
    "\n",
    "\"\"\""
   ]
  },
  {
   "cell_type": "code",
   "execution_count": 58,
   "metadata": {
    "collapsed": false
   },
   "outputs": [
    {
     "data": {
      "text/plain": [
       "float"
      ]
     },
     "execution_count": 58,
     "metadata": {},
     "output_type": "execute_result"
    }
   ],
   "source": [
    "type(7+8.5)"
   ]
  },
  {
   "cell_type": "code",
   "execution_count": 63,
   "metadata": {
    "collapsed": true
   },
   "outputs": [],
   "source": [
    "first = 'pwn'\n",
    "second = 3\n",
    "third = 'd'"
   ]
  },
  {
   "cell_type": "code",
   "execution_count": 64,
   "metadata": {
    "collapsed": false
   },
   "outputs": [
    {
     "data": {
      "text/plain": [
       "'pwn3d'"
      ]
     },
     "execution_count": 64,
     "metadata": {},
     "output_type": "execute_result"
    }
   ],
   "source": [
    "first+str(second)+third"
   ]
  },
  {
   "cell_type": "code",
   "execution_count": 69,
   "metadata": {
    "collapsed": true
   },
   "outputs": [],
   "source": [
    "def are_lengths_of_strs(L1, L2):\n",
    "    '''(list of int, list of str) -> bool\n",
    "  \n",
    "    Return True if and only if all the ints in L1 are the lengths of the strings\n",
    "    in L2 at the corresponding positions.\n",
    "\n",
    "    Precondition: len(L1) == len(L2)\n",
    "\n",
    "    >>> are_lengths_of_strs([4, 0, 2], ['abcd', '', 'ef'])\n",
    "    True\n",
    "    '''\n",
    "\n",
    "    result = True\n",
    "    for i in range(len(L1)):\n",
    "        if L1[i] != len(L2[i]):\n",
    "            result = False\n",
    "\n",
    "    return result"
   ]
  },
  {
   "cell_type": "code",
   "execution_count": 70,
   "metadata": {
    "collapsed": false
   },
   "outputs": [
    {
     "data": {
      "text/plain": [
       "True"
      ]
     },
     "execution_count": 70,
     "metadata": {},
     "output_type": "execute_result"
    }
   ],
   "source": [
    "are_lengths_of_strs([4, 0, 2], ['abcd', '', 'ef'])"
   ]
  },
  {
   "cell_type": "code",
   "execution_count": 78,
   "metadata": {
    "collapsed": true
   },
   "outputs": [],
   "source": [
    "def double_values(collection):\n",
    "    for v in range(len(collection)):\n",
    "         collection[v] = collection[v] * 2"
   ]
  },
  {
   "cell_type": "code",
   "execution_count": 82,
   "metadata": {
    "collapsed": false
   },
   "outputs": [],
   "source": [
    "def count_chars(s):\n",
    "    '''(str) -> dict of {str: int}\n",
    "\n",
    "    Return a dictionary where the keys are the characters in s and the values\n",
    "    are how many times those characters appear in s.\n",
    "\n",
    "    >>> count_chars('abracadabra')\n",
    "    {'a': 5, 'r': 2, 'b': 2, 'c': 1, 'd': 1}\n",
    "    '''\n",
    "    d = {}\n",
    "\n",
    "    for c in s:\n",
    "        if not (c in d):\n",
    "            d[c] = 1\n",
    "        else:\n",
    "            d[c] = d[c] + 1\n",
    "\n",
    "    return d"
   ]
  },
  {
   "cell_type": "code",
   "execution_count": 83,
   "metadata": {
    "collapsed": false
   },
   "outputs": [
    {
     "data": {
      "text/plain": [
       "{'a': 5, 'b': 2, 'c': 1, 'd': 1, 'r': 2}"
      ]
     },
     "execution_count": 83,
     "metadata": {},
     "output_type": "execute_result"
    }
   ],
   "source": [
    "count_chars('abracadabra')"
   ]
  },
  {
   "cell_type": "code",
   "execution_count": null,
   "metadata": {
    "collapsed": true
   },
   "outputs": [],
   "source": []
  }
 ],
 "metadata": {
  "kernelspec": {
   "display_name": "Python 3",
   "language": "python",
   "name": "python3"
  },
  "language_info": {
   "codemirror_mode": {
    "name": "ipython",
    "version": 3
   },
   "file_extension": ".py",
   "mimetype": "text/x-python",
   "name": "python",
   "nbconvert_exporter": "python",
   "pygments_lexer": "ipython3",
   "version": "3.6.0"
  }
 },
 "nbformat": 4,
 "nbformat_minor": 2
}
